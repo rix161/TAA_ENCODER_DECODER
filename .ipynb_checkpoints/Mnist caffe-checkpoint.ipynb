{
 "cells": [
  {
   "cell_type": "code",
   "execution_count": 1,
   "metadata": {},
   "outputs": [
    {
     "name": "stderr",
     "output_type": "stream",
     "text": [
      "WARNING:root:This caffe2 python run does not have GPU support. Will run in CPU only mode.\n",
      "WARNING:root:Debug message: No module named caffe2_pybind11_state_gpu\n",
      "INFO:caffe2.python.net_drawer:Cannot import pydot, which is required for drawing a network. This can usually be installed in python with \"pip install pydot\". Also, pydot requires graphviz to convert dot files to pdf: in ubuntu, this can usually be installed with \"sudo apt-get install graphviz\".\n"
     ]
    },
    {
     "name": "stdout",
     "output_type": "stream",
     "text": [
      "net_drawer will not run correctly. Please install the correct dependencies.\n",
      "Necessities imported!\n"
     ]
    }
   ],
   "source": [
    "from __future__ import absolute_import\n",
    "from __future__ import division\n",
    "from __future__ import print_function\n",
    "from __future__ import unicode_literals\n",
    "%matplotlib inline\n",
    "from matplotlib import pyplot\n",
    "import numpy as np\n",
    "import os\n",
    "import shutil\n",
    "import operator\n",
    "import caffe2.python.predictor.predictor_exporter as pe\n",
    "\n",
    "from caffe2.python import (\n",
    "    brew,\n",
    "    core,\n",
    "    model_helper,\n",
    "    net_drawer,\n",
    "    optimizer,\n",
    "    visualize,\n",
    "    workspace,\n",
    ")\n",
    "\n",
    "# If you would like to see some really detailed initializations,\n",
    "# you can change --caffe2_log_level=0 to --caffe2_log_level=-1\n",
    "core.GlobalInit(['caffe2', '--caffe2_log_level=0'])\n",
    "print(\"Necessities imported!\")\n",
    "\n",
    "# If True, use the LeNet CNN model\n",
    "# If False, a multilayer perceptron model is used\n",
    "USE_LENET_MODEL = True"
   ]
  },
  {
   "cell_type": "code",
   "execution_count": 2,
   "metadata": {},
   "outputs": [
    {
     "name": "stdout",
     "output_type": "stream",
     "text": [
      "lmdb train db found!\n",
      "lmdb test db found!\n",
      "Looks like you ran this before, so we need to cleanup those old files...\n",
      "training data folder:/home/rohit/caffe2_notebooks/tutorial_data/mnist\n",
      "workspace root folder:/home/rohit/caffe2_notebooks/tutorial_files/tutorial_mnist\n"
     ]
    }
   ],
   "source": [
    "#This section preps your image and test set in a lmdb database\n",
    "def DownloadResource(url, path):\n",
    "    '''Downloads resources from s3 by url and unzips them to the provided path'''\n",
    "    import requests, zipfile, StringIO\n",
    "    print(\"Downloading... {} to {}\".format(url, path))\n",
    "    r = requests.get(url, stream=True)\n",
    "    z = zipfile.ZipFile(StringIO.StringIO(r.content))\n",
    "    z.extractall(path)\n",
    "    print(\"Completed download and extraction.\")\n",
    "\n",
    "\n",
    "current_folder = os.path.join(os.path.expanduser('~'), 'caffe2_notebooks')\n",
    "data_folder = os.path.join(current_folder, 'tutorial_data', 'mnist')\n",
    "root_folder = os.path.join(current_folder, 'tutorial_files', 'tutorial_mnist')\n",
    "db_missing = False\n",
    "\n",
    "if not os.path.exists(data_folder):\n",
    "    os.makedirs(data_folder)   \n",
    "    print(\"Your data folder was not found!! This was generated: {}\".format(data_folder))\n",
    "\n",
    "# Look for existing database: lmdb\n",
    "if os.path.exists(os.path.join(data_folder,\"mnist-train-nchw-lmdb\")):\n",
    "    print(\"lmdb train db found!\")\n",
    "else:\n",
    "    db_missing = True\n",
    "\n",
    "if os.path.exists(os.path.join(data_folder,\"mnist-test-nchw-lmdb\")):\n",
    "    print(\"lmdb test db found!\")\n",
    "else:\n",
    "    db_missing = True\n",
    "\n",
    "# attempt the download of the db if either was missing\n",
    "if db_missing:\n",
    "    print(\"one or both of the MNIST lmbd dbs not found!!\")\n",
    "    db_url = \"http://download.caffe2.ai/databases/mnist-lmdb.zip\"\n",
    "    try:\n",
    "        DownloadResource(db_url, data_folder)\n",
    "    except Exception as ex:\n",
    "        print(\"Failed to download dataset. Please download it manually from {}\".format(db_url))\n",
    "        print(\"Unzip it and place the two database folders here: {}\".format(data_folder))\n",
    "        raise ex\n",
    "\n",
    "if os.path.exists(root_folder):\n",
    "    print(\"Looks like you ran this before, so we need to cleanup those old files...\")\n",
    "    shutil.rmtree(root_folder)\n",
    "\n",
    "os.makedirs(root_folder)\n",
    "workspace.ResetWorkspace(root_folder)\n",
    "\n",
    "print(\"training data folder:\" + data_folder)\n",
    "print(\"workspace root folder:\" + root_folder)\n"
   ]
  },
  {
   "cell_type": "code",
   "execution_count": 3,
   "metadata": {},
   "outputs": [],
   "source": [
    "def AddInput(model, batch_size, db, db_type):\n",
    "    ### load the data from db - Method 1 using brew\n",
    "    #data_uint8, label = brew.db_input(\n",
    "    #    model,\n",
    "    #    blobs_out=[\"data_uint8\", \"label\"],\n",
    "    #    batch_size=batch_size,\n",
    "    #    db=db,\n",
    "    #    db_type=db_type,\n",
    "    #)\n",
    "    ### load the data from db - Method 2 using TensorProtosDB\n",
    "    data_uint8, label = model.TensorProtosDBInput(\n",
    "        [], [\"data_uint8\", \"label\"], batch_size=batch_size,\n",
    "        db=db, db_type=db_type)\n",
    "    #output_blob, old_shape = model.Reshape(['data'], ['output_blob', 'old_shape'], shape=(newshape_N,C,H,W))\n",
    "    # cast the data to float\n",
    "    data = model.Cast(data_uint8, \"data\", to=core.DataType.FLOAT)\n",
    "    # scale data from [0,255] down to [0,1]\n",
    "    data = model.Scale(data, data, scale=float(1./256))\n",
    "    # don't need the gradient for the backward pass\n",
    "    data = model.StopGradient(data, data)\n",
    "    return data, label"
   ]
  },
  {
   "cell_type": "code",
   "execution_count": 4,
   "metadata": {},
   "outputs": [],
   "source": [
    "def AddModel(model,data):\n",
    "    conv1 = brew.conv(model,data,\"conv1\",dim_in = 1,dim_out = 40,kernel = 3)\n",
    "    relu1 = brew.relu(model,conv1,\"relu1\");\n",
    "    maxpool1 = brew.max_pool(model,relu1,\"max_pool1\",kernel=2,stride=2)\n",
    "    \n",
    "    conv2 = brew.conv(model,maxpool1,\"conv2\",dim_in =40 ,dim_out = 100,kernel = 3)\n",
    "    relu2 = brew.relu(model,conv2,\"relu2\");\n",
    "    maxpool2 = brew.max_pool(model,relu2,\"max_pool2\",kernel=2,stride=2)\n",
    "    \n",
    "    conv3 = brew.conv(model,maxpool2,\"conv3\",dim_in =100 ,dim_out = 500,kernel = 3)\n",
    "    relu3 = brew.relu(model,conv3,\"relu3\");\n",
    "    maxpool3 = brew.max_pool(model,relu3,\"max_pool3\",kernel=2,stride=2)\n",
    "    \n",
    "    fc3 = brew.fc(model, maxpool3, 'fc3', dim_in=500 * 1 * 1, dim_out=1000)\n",
    "    relu4 = brew.relu(model, fc3, 'relu4')\n",
    "    \n",
    "    pred = brew.fc(model, relu4, 'pred', dim_in=1000, dim_out=10)\n",
    "    softmax = brew.softmax(model, pred, 'softmax')\n",
    "    \n",
    "    return softmax\n",
    "    \n",
    "    "
   ]
  },
  {
   "cell_type": "code",
   "execution_count": 5,
   "metadata": {},
   "outputs": [],
   "source": [
    "def AddAccuracy(model, softmax, label):\n",
    "    \"\"\"Adds an accuracy op to the model\"\"\"\n",
    "    accuracy = brew.accuracy(model, [softmax, label], \"accuracy\")\n",
    "    return accuracy"
   ]
  },
  {
   "cell_type": "code",
   "execution_count": 6,
   "metadata": {},
   "outputs": [],
   "source": [
    "def AddTrainingOperator(model,softmax,label):\n",
    "    xent = model.LabelCrossEntropy([softmax,label],\"xent\")\n",
    "    loss = model.AveragedLoss(xent,\"loss\")\n",
    "    AddAccuracy(model, softmax, label)\n",
    "    model.AddGradientOperators([loss])\n",
    "    optimizer.build_sgd(\n",
    "        model,\n",
    "        base_learning_rate = 0.1,\n",
    "        policy = 'step',\n",
    "        stepsize = 1,\n",
    "        gamma =0.99\n",
    "    )"
   ]
  },
  {
   "cell_type": "code",
   "execution_count": 7,
   "metadata": {},
   "outputs": [
    {
     "name": "stderr",
     "output_type": "stream",
     "text": [
      "WARNING:root:You are creating an op that the ModelHelper does not recognize: Shape.\n",
      "WARNING:root:You are creating an op that the ModelHelper does not recognize: Reshape.\n"
     ]
    }
   ],
   "source": [
    "arg_scope = {'order':'NCHW'}\n",
    "trainModel = model_helper.ModelHelper(name=\"mnist_train\",arg_scope = arg_scope)\n",
    "data,label = AddInput(trainModel,batch_size = 64,db=os.path.join(data_folder, 'mnist-train-nchw-lmdb'),db_type='lmdb')\n",
    "softmax = AddModel(trainModel,data)\n",
    "AddTrainingOperator(trainModel,softmax,label)"
   ]
  },
  {
   "cell_type": "code",
   "execution_count": 8,
   "metadata": {},
   "outputs": [
    {
     "ename": "AttributeError",
     "evalue": "'str' object has no attribute 'shape'",
     "output_type": "error",
     "traceback": [
      "\u001b[0;31m---------------------------------------------------------------------------\u001b[0m",
      "\u001b[0;31mAttributeError\u001b[0m                            Traceback (most recent call last)",
      "\u001b[0;32m<ipython-input-8-81f42b31436f>\u001b[0m in \u001b[0;36m<module>\u001b[0;34m()\u001b[0m\n\u001b[1;32m     11\u001b[0m     \u001b[0;31m#loss[i] = workspace.blobs['loss']\u001b[0m\u001b[0;34m\u001b[0m\u001b[0;34m\u001b[0m\u001b[0m\n\u001b[1;32m     12\u001b[0m     \u001b[0mdata\u001b[0m \u001b[0;34m=\u001b[0m \u001b[0mworkspace\u001b[0m\u001b[0;34m.\u001b[0m\u001b[0mblobs\u001b[0m\u001b[0;34m[\u001b[0m\u001b[0;34m'data'\u001b[0m\u001b[0;34m]\u001b[0m\u001b[0;34m\u001b[0m\u001b[0m\n\u001b[0;32m---> 13\u001b[0;31m     \u001b[0;32mprint\u001b[0m\u001b[0;34m(\u001b[0m\u001b[0mdata\u001b[0m\u001b[0;34m.\u001b[0m\u001b[0mshape\u001b[0m\u001b[0;34m)\u001b[0m\u001b[0;34m\u001b[0m\u001b[0m\n\u001b[0m\u001b[1;32m     14\u001b[0m     \u001b[0;32mif\u001b[0m \u001b[0mi\u001b[0m\u001b[0;34m%\u001b[0m\u001b[0;36m25\u001b[0m \u001b[0;34m==\u001b[0m \u001b[0;36m0\u001b[0m\u001b[0;34m:\u001b[0m\u001b[0;34m\u001b[0m\u001b[0m\n\u001b[1;32m     15\u001b[0m         \u001b[0;32mprint\u001b[0m\u001b[0;34m(\u001b[0m\u001b[0;34m\"Iter: {}, Loss: {}, Accuracy: {}\"\u001b[0m\u001b[0;34m.\u001b[0m\u001b[0mformat\u001b[0m\u001b[0;34m(\u001b[0m\u001b[0mi\u001b[0m\u001b[0;34m,\u001b[0m\u001b[0mloss\u001b[0m\u001b[0;34m[\u001b[0m\u001b[0mi\u001b[0m\u001b[0;34m]\u001b[0m\u001b[0;34m,\u001b[0m\u001b[0maccuracy\u001b[0m\u001b[0;34m[\u001b[0m\u001b[0mi\u001b[0m\u001b[0;34m]\u001b[0m\u001b[0;34m)\u001b[0m\u001b[0;34m)\u001b[0m\u001b[0;34m\u001b[0m\u001b[0m\n",
      "\u001b[0;31mAttributeError\u001b[0m: 'str' object has no attribute 'shape'"
     ]
    }
   ],
   "source": [
    "workspace.RunNetOnce(trainModel.param_init_net)\n",
    "workspace.CreateNet(trainModel.net,overwrite=True)\n",
    "\n",
    "numOfIter = 500\n",
    "accuracy = np.zeros(numOfIter)\n",
    "loss = np.zeros(numOfIter)\n",
    "\n",
    "for i in range(numOfIter):\n",
    "    #workspace.RunNet(trainModel.net)\n",
    "    #accuracy[i] = workspace.blobs['accuracy']\n",
    "    #loss[i] = workspace.blobs['loss']\n",
    "    data = workspace.blobs['data']\n",
    "    print(data.shape)\n",
    "    if i%25 == 0:\n",
    "        print(\"Iter: {}, Loss: {}, Accuracy: {}\".format(i,loss[i],accuracy[i]))\n",
    "\n",
    "        \n",
    "        \n",
    "pyplot.plot(loss, 'b')\n",
    "pyplot.plot(accuracy, 'r')\n",
    "pyplot.title(\"Summary of Training Run\")\n",
    "pyplot.xlabel(\"Iteration\")\n",
    "pyplot.legend(('Loss', 'Accuracy'), loc='upper right')"
   ]
  },
  {
   "cell_type": "code",
   "execution_count": null,
   "metadata": {},
   "outputs": [],
   "source": [
    "### Let's look at some of the training data\n",
    "pyplot.figure()\n",
    "pyplot.title(\"Training Data Sample\")\n",
    "# Grab the most recent data blob (i.e. batch) from the workspace\n",
    "data = workspace.FetchBlob('data')\n",
    "# Use visualize module to show the examples from the last batch that was fed to the model\n",
    "_ = visualize.NCHW.ShowMultiple(data)\n",
    "\n",
    "### Let's visualize the softmax result\n",
    "pyplot.figure()\n",
    "pyplot.title('Softmax Prediction for the first image above')\n",
    "pyplot.ylabel('Confidence')\n",
    "pyplot.xlabel('Label')\n",
    "# Grab and visualize the softmax blob for the batch we just visualized. Since batch size\n",
    "#  is 64, the softmax blob contains 64 vectors, one for each image in the batch. To grab\n",
    "#  the vector for the first image, we can simply index the fetched softmax blob at zero.\n",
    "softmax = workspace.FetchBlob('softmax')\n",
    "_ = pyplot.plot(softmax[1], 'ro')"
   ]
  },
  {
   "cell_type": "code",
   "execution_count": null,
   "metadata": {},
   "outputs": [],
   "source": [
    "    pyplot.figure()\n",
    "    pyplot.title(\"Conv1 Output Feature Maps for Most Recent Mini-batch\")\n",
    "    # Grab the output feature maps of conv1. Change this to conv2 in order to look into the second one.\n",
    "    #  Remember, early convolutional layers tend to learn human-interpretable features but later conv\n",
    "    #  layers work with highly-abstract representations. For this reason, it may be harder to understand\n",
    "    #  features of the later conv layers.\n",
    "    conv = workspace.FetchBlob('conv2')\n",
    "    \n",
    "    # We can look into any channel. Think of it as a feature model learned.\n",
    "    # In this case we look into the 5th channel. Play with other channels to see other features\n",
    "    conv = conv[:,[7],:,:]\n",
    "\n",
    "    _ = visualize.NCHW.ShowMultiple(conv)"
   ]
  },
  {
   "cell_type": "code",
   "execution_count": null,
   "metadata": {},
   "outputs": [],
   "source": []
  }
 ],
 "metadata": {
  "kernelspec": {
   "display_name": "Python 2",
   "language": "python",
   "name": "python2"
  },
  "language_info": {
   "codemirror_mode": {
    "name": "ipython",
    "version": 2
   },
   "file_extension": ".py",
   "mimetype": "text/x-python",
   "name": "python",
   "nbconvert_exporter": "python",
   "pygments_lexer": "ipython2",
   "version": "2.7.14"
  }
 },
 "nbformat": 4,
 "nbformat_minor": 2
}
