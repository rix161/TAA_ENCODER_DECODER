{
 "cells": [
  {
   "cell_type": "code",
   "execution_count": 1,
   "metadata": {},
   "outputs": [
    {
     "name": "stderr",
     "output_type": "stream",
     "text": [
      "WARNING:root:This caffe2 python run does not have GPU support. Will run in CPU only mode.\n",
      "WARNING:root:Debug message: No module named caffe2_pybind11_state_gpu\n"
     ]
    },
    {
     "name": "stdout",
     "output_type": "stream",
     "text": [
      "[[[0.14190898 0.58269195]\n",
      "  [0.14804004 0.19576225]\n",
      "  [0.53221215 0.84280765]]\n",
      "\n",
      " [[0.74237037 0.56679609]\n",
      "  [0.21686399 0.67209763]\n",
      "  [0.15254745 0.5789201 ]]\n",
      "\n",
      " [[0.70896036 0.69264432]\n",
      "  [0.09577659 0.73223972]\n",
      "  [0.57646389 0.97076741]]\n",
      "\n",
      " [[0.17036442 0.36137439]\n",
      "  [0.73471917 0.56436136]\n",
      "  [0.7520975  0.92764818]]]\n",
      "(4, 3, 2)\n",
      "[[[0.14190898 0.58269195]\n",
      "  [0.14804004 0.19576225]\n",
      "  [0.53221215 0.84280765]]\n",
      "\n",
      " [[0.74237037 0.56679609]\n",
      "  [0.21686399 0.67209763]\n",
      "  [0.15254745 0.5789201 ]]\n",
      "\n",
      " [[0.70896036 0.69264432]\n",
      "  [0.09577659 0.73223972]\n",
      "  [0.57646389 0.97076741]]\n",
      "\n",
      " [[0.17036442 0.36137439]\n",
      "  [0.73471917 0.56436136]\n",
      "  [0.7520975  0.92764818]]]\n"
     ]
    }
   ],
   "source": [
    "from caffe2.python import workspace, model_helper\n",
    "import numpy as np\n",
    "\n",
    "x = np.random.rand(4, 3, 2)\n",
    "print(x)\n",
    "print(x.shape)\n",
    "\n",
    "workspace.FeedBlob(\"my_x\", x)\n",
    "\n",
    "x2 = workspace.FetchBlob(\"my_x\")\n",
    "print(x2)"
   ]
  },
  {
   "cell_type": "code",
   "execution_count": 2,
   "metadata": {},
   "outputs": [
    {
     "data": {
      "text/plain": [
       "True"
      ]
     },
     "execution_count": 2,
     "metadata": {},
     "output_type": "execute_result"
    }
   ],
   "source": [
    "data = np.random.rand(16,100).astype(np.float32)\n",
    "label = (np.random.rand(16)*10).astype(np.int32)\n",
    "\n",
    "workspace.FeedBlob(\"data\",data)\n",
    "workspace.FeedBlob(\"label\",label)"
   ]
  },
  {
   "cell_type": "code",
   "execution_count": 3,
   "metadata": {},
   "outputs": [],
   "source": [
    "model = model_helper.ModelHelper(name = \"net\")"
   ]
  },
  {
   "cell_type": "code",
   "execution_count": 4,
   "metadata": {},
   "outputs": [],
   "source": [
    "weights = model.param_init_net.XavierFill([],\"fc_w\",shape=[10,100])\n",
    "bias = model.param_init_net.ConstantFill([],\"fc_b\",shape=[10,])"
   ]
  },
  {
   "cell_type": "code",
   "execution_count": 5,
   "metadata": {},
   "outputs": [
    {
     "name": "stdout",
     "output_type": "stream",
     "text": [
      "name: \"net\"\n",
      "op {\n",
      "  input: \"data\"\n",
      "  input: \"fc_w\"\n",
      "  input: \"fc_b\"\n",
      "  output: \"fc1\"\n",
      "  name: \"\"\n",
      "  type: \"FC\"\n",
      "}\n",
      "op {\n",
      "  input: \"fc1\"\n",
      "  output: \"pred\"\n",
      "  name: \"\"\n",
      "  type: \"Sigmoid\"\n",
      "}\n",
      "op {\n",
      "  input: \"pred\"\n",
      "  input: \"label\"\n",
      "  output: \"softmax\"\n",
      "  output: \"loss\"\n",
      "  name: \"\"\n",
      "  type: \"SoftmaxWithLoss\"\n",
      "}\n",
      "op {\n",
      "  input: \"loss\"\n",
      "  output: \"loss_autogen_grad\"\n",
      "  name: \"\"\n",
      "  type: \"ConstantFill\"\n",
      "  arg {\n",
      "    name: \"value\"\n",
      "    f: 1.0\n",
      "  }\n",
      "}\n",
      "op {\n",
      "  input: \"pred\"\n",
      "  input: \"label\"\n",
      "  input: \"softmax\"\n",
      "  input: \"loss_autogen_grad\"\n",
      "  output: \"pred_grad\"\n",
      "  name: \"\"\n",
      "  type: \"SoftmaxWithLossGradient\"\n",
      "  is_gradient_op: true\n",
      "}\n",
      "op {\n",
      "  input: \"pred\"\n",
      "  input: \"pred_grad\"\n",
      "  output: \"fc1_grad\"\n",
      "  name: \"\"\n",
      "  type: \"SigmoidGradient\"\n",
      "  is_gradient_op: true\n",
      "}\n",
      "op {\n",
      "  input: \"data\"\n",
      "  input: \"fc_w\"\n",
      "  input: \"fc1_grad\"\n",
      "  output: \"fc_w_grad\"\n",
      "  output: \"fc_b_grad\"\n",
      "  output: \"data_grad\"\n",
      "  name: \"\"\n",
      "  type: \"FCGradient\"\n",
      "  is_gradient_op: true\n",
      "}\n",
      "external_input: \"data\"\n",
      "external_input: \"fc_w\"\n",
      "external_input: \"fc_b\"\n",
      "external_input: \"label\"\n",
      "\n"
     ]
    }
   ],
   "source": [
    "fc1 = model.net.FC([\"data\",\"fc_w\",\"fc_b\"],\"fc1\")\n",
    "pred = model.net.Sigmoid(fc1,\"pred\")\n",
    "softmax,loss = model.net.SoftmaxWithLoss([pred,\"label\"],[\"softmax\",\"loss\"])\n",
    "model.AddGradientOperators([loss])\n",
    "print(model.net.Proto())"
   ]
  },
  {
   "cell_type": "code",
   "execution_count": 6,
   "metadata": {},
   "outputs": [
    {
     "data": {
      "text/plain": [
       "True"
      ]
     },
     "execution_count": 6,
     "metadata": {},
     "output_type": "execute_result"
    }
   ],
   "source": [
    "workspace.RunNetOnce(model.param_init_net)"
   ]
  },
  {
   "cell_type": "code",
   "execution_count": 7,
   "metadata": {},
   "outputs": [
    {
     "data": {
      "text/plain": [
       "True"
      ]
     },
     "execution_count": 7,
     "metadata": {},
     "output_type": "execute_result"
    }
   ],
   "source": [
    "workspace.CreateNet(model.net)"
   ]
  },
  {
   "cell_type": "code",
   "execution_count": 8,
   "metadata": {},
   "outputs": [],
   "source": [
    "for _ in range(100):\n",
    "    data = np.random.rand(16,100).astype(np.float32)\n",
    "    label = (np.random.rand(16)*10).astype(np.int32)\n",
    "    \n",
    "    workspace.FeedBlob(\"data\",data)\n",
    "    workspace.FeedBlob(\"label\",label)\n",
    "    \n",
    "    workspace.RunNet(model.name,10)\n"
   ]
  },
  {
   "cell_type": "code",
   "execution_count": 11,
   "metadata": {},
   "outputs": [
    {
     "name": "stdout",
     "output_type": "stream",
     "text": [
      "[[0.09665411 0.11637841 0.08637363 0.09426858 0.09424146 0.08368632\n",
      "  0.10378861 0.09185072 0.13255095 0.10020716]\n",
      " [0.10222119 0.10569521 0.07872098 0.10924561 0.09921387 0.08424808\n",
      "  0.09895405 0.09063099 0.12431713 0.10675295]\n",
      " [0.10619329 0.11566251 0.07528977 0.10254584 0.09884842 0.07508507\n",
      "  0.09696864 0.08613555 0.13549322 0.10777763]\n",
      " [0.10433014 0.11142292 0.07783844 0.10616309 0.10503541 0.07584623\n",
      "  0.10450024 0.08888117 0.1294777  0.09650476]\n",
      " [0.092739   0.11764689 0.08240782 0.0875389  0.09717013 0.08459236\n",
      "  0.11166982 0.08977585 0.14096618 0.09549301]\n",
      " [0.11188678 0.11764981 0.0805137  0.10056552 0.09243735 0.08298058\n",
      "  0.10554389 0.08386409 0.13213968 0.0924186 ]\n",
      " [0.10913911 0.11898073 0.08577812 0.09326787 0.08756094 0.08614404\n",
      "  0.08795089 0.09862316 0.13471417 0.09784108]\n",
      " [0.11126507 0.12047957 0.07661424 0.10398193 0.09800398 0.07962672\n",
      "  0.09421778 0.09432238 0.12741573 0.0940726 ]\n",
      " [0.09249195 0.11211536 0.08515187 0.09501904 0.11064223 0.0750877\n",
      "  0.10363222 0.08667269 0.14263865 0.09654833]\n",
      " [0.10294477 0.10556065 0.07396418 0.10224532 0.11258063 0.08387414\n",
      "  0.10487493 0.08458342 0.12971118 0.09966075]\n",
      " [0.09847555 0.11489396 0.08461275 0.10421185 0.10396604 0.08180887\n",
      "  0.10201532 0.08609788 0.1316285  0.09228934]\n",
      " [0.11932003 0.10176277 0.08031866 0.10671588 0.09367774 0.0780413\n",
      "  0.10024185 0.08713037 0.13255332 0.1002381 ]\n",
      " [0.11188889 0.11378069 0.07415949 0.10130151 0.09564728 0.07457488\n",
      "  0.11539695 0.08287303 0.13705067 0.09332661]\n",
      " [0.11235972 0.11981557 0.08384509 0.1067143  0.09933785 0.08291747\n",
      "  0.09743803 0.08328475 0.12061603 0.0936712 ]\n",
      " [0.1187139  0.11675502 0.07801639 0.09160608 0.0972781  0.07854273\n",
      "  0.10119242 0.08766561 0.13502121 0.0952085 ]\n",
      " [0.10286348 0.11599201 0.07923003 0.10104086 0.10170718 0.07811172\n",
      "  0.09631784 0.09378483 0.13499978 0.09595233]]\n",
      "2.3741791\n"
     ]
    }
   ],
   "source": [
    "print(workspace.FetchBlob(\"softmax\"))\n",
    "print(workspace.FetchBlob(\"loss\"))"
   ]
  },
  {
   "cell_type": "code",
   "execution_count": null,
   "metadata": {},
   "outputs": [],
   "source": []
  }
 ],
 "metadata": {
  "kernelspec": {
   "display_name": "Python 2",
   "language": "python",
   "name": "python2"
  },
  "language_info": {
   "codemirror_mode": {
    "name": "ipython",
    "version": 2
   },
   "file_extension": ".py",
   "mimetype": "text/x-python",
   "name": "python",
   "nbconvert_exporter": "python",
   "pygments_lexer": "ipython2",
   "version": "2.7.14"
  }
 },
 "nbformat": 4,
 "nbformat_minor": 2
}
