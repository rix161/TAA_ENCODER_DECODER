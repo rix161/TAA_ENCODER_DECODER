{
 "cells": [
  {
   "cell_type": "code",
   "execution_count": 1,
   "metadata": {},
   "outputs": [
    {
     "name": "stderr",
     "output_type": "stream",
     "text": [
      "WARNING:root:This caffe2 python run does not have GPU support. Will run in CPU only mode.\n",
      "WARNING:root:Debug message: No module named 'caffe2.python.caffe2_pybind11_state_gpu'\n"
     ]
    },
    {
     "name": "stdout",
     "output_type": "stream",
     "text": [
      "Necessities imported!\n"
     ]
    }
   ],
   "source": [
    "from __future__ import absolute_import\n",
    "from __future__ import division\n",
    "from __future__ import print_function\n",
    "from __future__ import unicode_literals\n",
    "%matplotlib inline\n",
    "from matplotlib import pyplot\n",
    "import caffe2\n",
    "import numpy as np\n",
    "import os\n",
    "import shutil\n",
    "import operator\n",
    "import caffe2.python.predictor.predictor_exporter as pe\n",
    "import os\n",
    "import cv2\n",
    "import random\n",
    "import lmdb\n",
    "\n",
    "from caffe2.python import core, utils, workspace\n",
    "from caffe2.proto import caffe2_pb2\n",
    "\n",
    "from caffe2.python import (\n",
    "    brew,\n",
    "    core,\n",
    "    model_helper,\n",
    "    net_drawer,\n",
    "    optimizer,\n",
    "    visualize,\n",
    "    workspace,\n",
    ")\n",
    "\n",
    "# If you would like to see some really detailed initializations,\n",
    "# you can change --caffe2_log_level=0 to --caffe2_log_level=-1\n",
    "core.GlobalInit(['caffe2', '--caffe2_log_level=0'])\n",
    "print(\"Necessities imported!\")"
   ]
  },
  {
   "cell_type": "code",
   "execution_count": 2,
   "metadata": {},
   "outputs": [],
   "source": [
    "def generateSequence(index,seqSize,noisyDatPath,refDatPath):\n",
    "    noisySeq = []\n",
    "    refSeq = []\n",
    "    imgList = os.listdir(noisyDatPath)\n",
    "    imgList.sort()\n",
    "   \n",
    "    if((index+seqSize)>len(imgList)):\n",
    "        seqSize = len(imgList) - index\n",
    "  \n",
    "    for i in range(seqSize):\n",
    "        noisyImg = cv2.imread(noisyDatPath+\"//\"+imgList[index+i])\n",
    "        refImg   = cv2.imread(refDatPath+\"//\"+imgList[index+i])\n",
    "        #noisyImg = cv2.imread(noisyDatPath+\"//\"+imgList[index+i])\n",
    "        #refImg   = cv2.imread(refDatPath+\"//\"+imgList[index+i])\n",
    "        noisySeq.append(noisyImg)\n",
    "        refSeq.append(refImg)\n",
    "    \n",
    "        \n",
    "    return noisySeq,refSeq\n",
    "    \n",
    "    "
   ]
  },
  {
   "cell_type": "code",
   "execution_count": 3,
   "metadata": {},
   "outputs": [],
   "source": [
    "def generateSubseqence(srcNoisyImg,srcRefImg,seqSize,subSeqSize):\n",
    "    \n",
    "    noisySubSeq = []\n",
    "    refSubSeq = []\n",
    "    subSeqWindow = 32 #trying to create subimages of size 32x32, paper works with 128x128\n",
    "\n",
    "    width,height = noisySeq[0].shape[0],noisySeq[0].shape[1]\n",
    "    \n",
    "    for k in range(subSeqSize):\n",
    "        initW = random.randint(0,width-subSeqWindow-1)\n",
    "        initH = random.randint(0,height-subSeqWindow-1)\n",
    "        for i in range(seqSize):\n",
    "            if(i>len(srcNoisyImg)-1):\n",
    "                break\n",
    "            subImageNoisy = srcNoisyImg[i][initW:initW+subSeqWindow,initH:initH+subSeqWindow,:3]\n",
    "            subImageRef   = srcRefImg[i][initW:initW+subSeqWindow,initH:initH+subSeqWindow,:3]\n",
    "            wN,hN = subImageRef.shape[0],subImageRef.shape[1]\n",
    "            if((wN != subSeqWindow) or(hN != subSeqWindow)):\n",
    "                print(\"width or height does not match:\"+str(wN)+\"x\"+str(hN)+\" initW:\"+str(initW)+\":\"+str(initW+subSeqWindow)+\" initH:\"+str(initH)+\":\"+str(initH+subSeqWindow))\n",
    "            noisySubSeq.append(subImageNoisy)\n",
    "            refSubSeq.append(subImageRef)\n",
    "        \n",
    "    return noisySubSeq,refSubSeq\n",
    "    "
   ]
  },
  {
   "cell_type": "code",
   "execution_count": 4,
   "metadata": {},
   "outputs": [],
   "source": [
    "def showImage(img):\n",
    "    pyplot.figure()\n",
    "    pyplot.subplot(1,2,1)\n",
    "    pyplot.imshow(img)\n",
    "    pyplot.axis('on')\n",
    "    pyplot.title('Original image = RGB')"
   ]
  },
  {
   "cell_type": "code",
   "execution_count": 5,
   "metadata": {},
   "outputs": [],
   "source": [
    "def write_db(db_type, db_name, imgSeq, refSeq):\n",
    "    db = core.C.create_db(db_type, db_name, core.C.Mode.write)\n",
    "    transaction = db.new_transaction()\n",
    "    for i in range(len(imgSeq)):\n",
    "        feature_and_label = caffe2_pb2.TensorProtos()\n",
    "        feature_and_label.protos.extend([\n",
    "            utils.NumpyArrayToCaffe2Tensor(imgSeq[i]),\n",
    "            utils.NumpyArrayToCaffe2Tensor(refSeq[i])])\n",
    "        transaction.put(\n",
    "            'train_%03d'.format(i),\n",
    "            feature_and_label.SerializeToString())\n",
    "    # Close the transaction, and then close the db.\n",
    "    del transaction\n",
    "    del db"
   ]
  },
  {
   "cell_type": "code",
   "execution_count": 6,
   "metadata": {},
   "outputs": [],
   "source": [
    "noisyTraining = \"//home//rohit//Rohit//Internship//caffe//projects//ML_TAA//data//trainingData//Noisy\"\n",
    "refTraining = \"//home//rohit//Rohit//Internship//caffe//projects//ML_TAA//data//trainingData//Ref\"\n",
    "\n",
    "i = 0\n",
    "if(len(os.listdir(noisyTraining)) !=  len(os.listdir(refTraining))):\n",
    "    print(\"Error: Training and ref sizes match!\")\n",
    "\n",
    "dirSize = len(os.listdir(noisyTraining))\n",
    "seqSize = 7\n",
    "subSeqSize = 500\n",
    "totalNoisyImage = []\n",
    "totalRefImage = []\n",
    "\n",
    "while(i < dirSize):\n",
    "    noisySeq,refSeq = generateSequence(i,seqSize,noisyTraining,refTraining)\n",
    "    noisySubSeq,refSubSeq = generateSubseqence(noisySeq,refSeq,seqSize,subSeqSize)\n",
    "    totalNoisyImage.extend(noisySubSeq)\n",
    "    totalRefImage.extend(refSubSeq)\n",
    "\n",
    "    '''if i == 0:\n",
    "        for k in range(len(noisySubSeq)):\n",
    "            showImage(noisySubSeq[k])\n",
    "            showImage(refSubSeq[k])'''\n",
    "    i+=seqSize\n",
    "\n",
    "write_db(\"minidb\", \"//home//rohit//Rohit//Internship//TAA_ML//ML_TAA.minidb\", totalNoisyImage,totalRefImage)\n",
    "seqSize = 1"
   ]
  },
  {
   "cell_type": "code",
   "execution_count": 40,
   "metadata": {},
   "outputs": [],
   "source": [
    "def AddInput(model, batch_size, db, db_type):\n",
    "    noisyImg_uint8,refImg_uint8 = model.TensorProtosDBInput([], [\"noisyImg_uint8\", \"refImg_uint8\"], batch_size=batch_size,\n",
    "        db=db, db_type=db_type)\n",
    "    \n",
    "    noisyImg = model.Cast(noisyImg_uint8, \"noisyImg\", to=core.DataType.FLOAT)\n",
    "    # scale data from [0,255] down to [0,1]\n",
    "    noisyImg = model.Scale(noisyImg, noisyImg, scale=float(1./256))\n",
    "    noisyImg = model.NHWC2NCHW(noisyImg,\"noisyImgNCHW\")\n",
    "    # don't need the gradient for the backward pass\n",
    "    noisyImg = model.StopGradient(noisyImg, noisyImg)\n",
    "    \n",
    "    \n",
    "    refImg = model.Cast(refImg_uint8, \"refImg\", to=core.DataType.FLOAT)\n",
    "    # scale data from [0,255] down to [0,1]\n",
    "    refImg = model.Scale(refImg, refImg, scale=float(1./256))\n",
    "    refImg = model.NHWC2NCHW(refImg,\"refImgNCHW\")\n",
    "    # don't need the gradient for the backward pass\n",
    "    refImg = model.StopGradient(refImg, refImg)\n",
    "    \n",
    "    return noisyImg, refImg\n",
    "    "
   ]
  },
  {
   "cell_type": "code",
   "execution_count": 41,
   "metadata": {},
   "outputs": [],
   "source": [
    "CONV_KERNEL_SIZE  = 3\n",
    "\n",
    "CONV_KERNEL_PADING1 = 1\n",
    "CONV_KERNEL_STRIDE1 = 1\n",
    "\n",
    "CONV_KERNEL_PADING2 = 4\n",
    "CONV_KERNEL_STRIDE2 = 3\n",
    "\n",
    "def AddRecurrentBlock(model,data,layerNo,hiddenLayer,W,U,bias,filter_count_in,filter_count_out):\n",
    "    #convR1 = brew.conv(model, data, 'conv1', dim_in=3, dim_out=20, kernel=3,pad_t=1,pad_l=4,pad_r=4,pad_b=1,stride = 1)\n",
    "   \n",
    "    convR1 = brew.conv(model,data,\"convR1\"+str(layerNo),dim_in=filter_count_in,dim_out=filter_count_out,\n",
    "                       kernel=CONV_KERNEL_SIZE,stride = CONV_KERNEL_STRIDE1,pad = CONV_KERNEL_PADING1)\n",
    "    \n",
    "    '''conCatR1,conCatDimsR1 = model.net.Concat( [convR1, hiddenLayer],['concatR1'+str(layerNo), 'conCatDimsR1'+str(layerNo)], axis=3)\n",
    "    convR2 = brew.conv(model,conCatR1,\"convR2\"+str(layerNo),dim_in=filter_count_out,dim_out=filter_count_out,\n",
    "                       kernel=3,\n",
    "                       pad_t = 1,\n",
    "                       pad_b = 1,\n",
    "                       pad_l = 0,\n",
    "                       pad_r = 1,\n",
    "                       stride_w = 2,\n",
    "                       stride_h = 1)'''\n",
    "    \n",
    "    temp1 = model.net.BatchMatMul([hiddenLayer,W],\"temp1\"+str(layerNo))\n",
    "    temp2 = model.net.BatchMatMul([convR1,U],\"temp2\"+str(layerNo))\n",
    "    convR2 = model.net.Add([temp1,temp2],\"convR2\"+str(layerNo))\n",
    "\n",
    "    convR3 = brew.conv(model,convR2,\"convR3\"+str(layerNo),dim_in=filter_count_out,dim_out=filter_count_out,\n",
    "                       kernel=CONV_KERNEL_SIZE,stride = CONV_KERNEL_STRIDE1,pad = CONV_KERNEL_PADING1)\n",
    "    hiddenLayer = convR3\n",
    "    \n",
    "    return convR3"
   ]
  },
  {
   "cell_type": "code",
   "execution_count": 42,
   "metadata": {},
   "outputs": [],
   "source": [
    "def AddEncoderDecoder(model, noisyData):\n",
    "    \n",
    "    #creating recurrent hidden layers\n",
    "    hidden1 = train_model.param_init_net.XavierFill([], 'hidden1', shape=[seqSize,8,32,32])\n",
    "    weights1 = train_model.param_init_net.XavierFill([], 'weights1', shape=[seqSize,8,32,32])\n",
    "    hweights1 = train_model.param_init_net.XavierFill([], 'hweights1', shape=[seqSize,8,32,32])\n",
    "    bias1 = train_model.param_init_net.XavierFill([], 'bias1', shape=[seqSize,8,32,32])\n",
    "    \n",
    "    hidden2 = train_model.param_init_net.XavierFill([], 'hidden2', shape=[seqSize,16,16,16])\n",
    "    weights2 = train_model.param_init_net.XavierFill([], 'weights2', shape=[seqSize,16,16,16])\n",
    "    hweights2 = train_model.param_init_net.XavierFill([], 'hweights2', shape=[seqSize,16,16,16])\n",
    "    bias2 = train_model.param_init_net.XavierFill([], 'bias2', shape=[seqSize,16,16,16])\n",
    "    \n",
    "    hidden3 = train_model.param_init_net.XavierFill([], 'hidden3', shape=[seqSize,32,8,8])\n",
    "    weights3 = train_model.param_init_net.XavierFill([], 'weights3', shape=[seqSize,32,8,8])\n",
    "    hweights3 = train_model.param_init_net.XavierFill([], 'hweights3', shape=[seqSize,32,8,8])\n",
    "    bias3 = train_model.param_init_net.XavierFill([], 'bias3', shape=[seqSize,32,8,8])\n",
    "    \n",
    "    hidden4 = train_model.param_init_net.XavierFill([], 'hidden4', shape=[seqSize,64,4,4])\n",
    "    weights4 = train_model.param_init_net.XavierFill([], 'weights4', shape=[seqSize,64,4,4])\n",
    "    hweights4 = train_model.param_init_net.XavierFill([], 'hweights4', shape=[seqSize,64,4,4])\n",
    "    bias4 = train_model.param_init_net.XavierFill([], 'bias4', shape=[seqSize,64,4,4])\n",
    "    \n",
    "    #ENCODER PART\n",
    "    # Image size: 32 x 32 -> 32 x 32\n",
    "    conv1 = AddRecurrentBlock(model,noisyData,1,hidden1,hweights1,weights1,bias1,3,8)\n",
    "    # Image size: 32 x 32 -> 16 x 16\n",
    "    pool1 = brew.max_pool(model, conv1, 'pool1', kernel = 2, stride = 2)\n",
    "\n",
    "    # Image size: 16 x 16 -> 16 x 16\n",
    "    conv2 = AddRecurrentBlock(model,pool1,2,hidden2,hweights2,weights2,bias2,8,16)\n",
    "    # Image size: 8x8 -> 8x8\n",
    "    pool2 = brew.max_pool(model, conv2, 'pool2', kernel=2, stride=2)\n",
    "    \n",
    "    # Image size: 8x8 -> 8 x 8\n",
    "    conv3 = AddRecurrentBlock(model,pool2,3,hidden3,hweights3,weights3,bias3,16,32)\n",
    "    # Image size: 8x8 -> 4x4\n",
    "    pool3 = brew.max_pool(model, conv3, 'pool3', kernel=2, stride=2)\n",
    "    \n",
    "    # Image size: 4x4 -> 4x4\n",
    "    conv4 = AddRecurrentBlock(model,pool3,4,hidden4,hweights4,weights4,bias4,32,64)\n",
    "    \n",
    "    ###DECODER PART\n",
    "    \n",
    "    upconv3 = brew.conv_transpose(model, conv4, \"upcon3\", dim_in=64, dim_out=32, kernel=3, pad=1)\n",
    "    upsample3 = brew.conv_transpose(model, upconv3, \"upsample3\", dim_in=32, dim_out=32, kernel=2, stride=2)\n",
    "    conCatD3 = model.net.Add( [upsample3, conv3], ['concatD3'])\n",
    "    convD3 = brew.conv(model,conCatD3,\"convD3\",dim_in=32,dim_out=32,kernel = 3, stride = CONV_KERNEL_STRIDE1,pad = CONV_KERNEL_PADING1)\n",
    "    '''conCatD3,conCatDimsD3 = model.net.Concat( [upsample3, conv3], ['concatD3', 'conCatDimsD3'], axis=2)\n",
    "    convD3 = brew.conv(model,conCatD3,\"convD3\",dim_in=32,dim_out=32,\n",
    "                       kernel=3,\n",
    "                       pad_t = 1,\n",
    "                       pad_b = 1,\n",
    "                       pad_l = 0,\n",
    "                       pad_r = 1,\n",
    "                       stride_w = 2,\n",
    "                       stride_h = 1)'''\n",
    "    \n",
    "    leakyReluD3 = model.net.LeakyRelu(convD3,['leakyReluD3'])\n",
    "    \n",
    "    upconv2 = brew.conv_transpose(model, leakyReluD3, \"upcon2\", dim_in=32, dim_out=16, kernel=3, pad=1)\n",
    "    upsample2 = brew.conv_transpose(model, upconv2, \"upsample2\", dim_in=16, dim_out=16, kernel=2, stride=2)\n",
    "    '''conCatD2,conCatDimsD2 = model.net.Concat( [upsample2, conv2], ['concatD2', 'conCatDimsD2'], axis=2)\n",
    "    convD2 = brew.conv(model,conCatD2,\"convD2\",dim_in=16,dim_out=16,kernel=3,\n",
    "                       pad_t = 1,\n",
    "                       pad_b = 1,\n",
    "                       pad_l = 0,\n",
    "                       pad_r = 1,\n",
    "                       stride_w = 2,\n",
    "                       stride_h = 1)'''\n",
    "    conCatD2= model.net.Add( [upsample2, conv2], ['concatD2'])\n",
    "    convD2 = brew.conv(model,conCatD2,\"convD\",dim_in=16,dim_out=16,kernel = 3, stride = CONV_KERNEL_STRIDE1,pad = CONV_KERNEL_PADING1)\n",
    "    leakyReluD2 = model.net.LeakyRelu(convD2,['leakyReluD2'])\n",
    "    \n",
    "    upconv1 = brew.conv_transpose(model, leakyReluD2, \"upcon1\", dim_in=16, dim_out=8, kernel=3, pad=1)\n",
    "    upsample1 = brew.conv_transpose(model, upconv1, \"upsample1\", dim_in=8, dim_out=8, kernel=2, stride=2)\n",
    "    '''conCatD1,conCatDimsD1 = model.net.Concat( [upsample1, conv1], ['concatD1', 'conCatDimsD1'], axis=2)\n",
    "    convD1 = brew.conv(model,conCatD1,\"convD1\",dim_in=8,dim_out=3,kernel=3,\n",
    "                       pad_t = 1,\n",
    "                       pad_b = 1,\n",
    "                       pad_l = 0,\n",
    "                       pad_r = 1,\n",
    "                       stride_w = 2,\n",
    "                       stride_h = 1)'''\n",
    "    conCatD1 = model.net.Add( [upsample1, conv1], ['concatD1'])\n",
    "    convD1 = brew.conv(model,conCatD1,\"convD1\",dim_in=8,dim_out=8,kernel = 3, stride = CONV_KERNEL_STRIDE1,pad = CONV_KERNEL_PADING1)\n",
    "    convD1 = model.net.LeakyRelu(convD1,['leakyReluD1'])\n",
    "    \n",
    "    convDout = brew.conv(model,conCatD1,\"convDout\",dim_in=8,dim_out=3,kernel = 3, stride = CONV_KERNEL_STRIDE1,pad = CONV_KERNEL_PADING1)\n",
    "    convDoutNHWC = model.net.NCHW2NHWC([convDout],[\"convDoutNHWC\"])\n",
    "    return convDout"
   ]
  },
  {
   "cell_type": "code",
   "execution_count": 43,
   "metadata": {},
   "outputs": [],
   "source": [
    "def addLosses(model,genImg,refImg):\n",
    "    ws = 0.8\n",
    "    wg = 0.1\n",
    "    wt = 0.1\n",
    "    #Add Spatial Loss]\n",
    "    dist = model.net.L1Distance([genImg,refImg],\"dist\")\n",
    "    Ls = model.AveragedLoss(dist, \"loss\")\n",
    "    #Ls = model.Scale(Ls, Ls, scale=ws)\n",
    "    #Add Gradient Loss\n",
    "    Lg = 0\n",
    "    #Add Temporal Loss\n",
    "    Lt = 0\n",
    "    \n",
    "    return (Ls)"
   ]
  },
  {
   "cell_type": "code",
   "execution_count": 44,
   "metadata": {},
   "outputs": [
    {
     "data": {
      "text/plain": [
       "True"
      ]
     },
     "execution_count": 44,
     "metadata": {},
     "output_type": "execute_result"
    }
   ],
   "source": [
    "arg_scope = {\"order\": \"NCHW\"}\n",
    "# Create the model helper for the train model\n",
    "train_model = model_helper.ModelHelper(name=\"mnist_train\", arg_scope=arg_scope)\n",
    "\n",
    "# Specify the input is from the train lmdb\n",
    "noisyImg, refImg = AddInput(\n",
    "    train_model, batch_size=seqSize,\n",
    "    db = \"//home//rohit//Rohit//Internship//TAA_ML//ML_TAA.minidb\",\n",
    "    db_type = \"minidb\")\n",
    "\n",
    "genImg = AddEncoderDecoder(train_model,noisyImg)\n",
    "Loss = addLosses(train_model,genImg,refImg)\n",
    "train_model.AddGradientOperators([Loss])\n",
    "optimizer.build_adam(train_model, base_learning_rate=0.0001)\n",
    "\n",
    "workspace.RunNetOnce(train_model.param_init_net)\n",
    "workspace.CreateNet(train_model.net, overwrite=True)\n",
    "workspace.RunNet(train_model.Proto().name)\n"
   ]
  },
  {
   "cell_type": "code",
   "execution_count": 45,
   "metadata": {},
   "outputs": [
    {
     "name": "stdout",
     "output_type": "stream",
     "text": [
      "Iter: 0, Loss: 894.55615234375\n",
      "Iter: 1000, Loss: 645.12548828125\n",
      "Iter: 2000, Loss: 389.4385986328125\n",
      "Iter: 3000, Loss: 127.84733581542969\n",
      "Iter: 4000, Loss: 91.4124755859375\n",
      "Iter: 5000, Loss: 395.4208984375\n",
      "Iter: 6000, Loss: 493.03497314453125\n",
      "Iter: 7000, Loss: 222.97943115234375\n",
      "Iter: 8000, Loss: 50.30958557128906\n",
      "Iter: 9000, Loss: 126.53811645507812\n",
      "Iter: 10000, Loss: 458.9710998535156\n",
      "Iter: 11000, Loss: 95.04107666015625\n",
      "Iter: 12000, Loss: 504.36962890625\n",
      "Iter: 13000, Loss: 306.7667236328125\n",
      "Iter: 14000, Loss: 404.46087646484375\n",
      "Iter: 15000, Loss: 457.47467041015625\n",
      "Iter: 16000, Loss: 76.35406494140625\n",
      "Iter: 17000, Loss: 865.3480834960938\n",
      "Iter: 18000, Loss: 396.2046203613281\n",
      "Iter: 19000, Loss: 64.45962524414062\n",
      "Iter: 20000, Loss: 82.37894439697266\n",
      "Iter: 21000, Loss: 408.3830871582031\n",
      "Iter: 22000, Loss: 189.650390625\n",
      "Iter: 23000, Loss: 366.426025390625\n",
      "Iter: 24000, Loss: 307.96783447265625\n",
      "Iter: 25000, Loss: 395.2755126953125\n",
      "Iter: 26000, Loss: 495.69390869140625\n",
      "Iter: 27000, Loss: 179.25636291503906\n",
      "Iter: 28000, Loss: 429.3646240234375\n",
      "Iter: 29000, Loss: 543.964599609375\n",
      "Iter: 30000, Loss: 498.82769775390625\n",
      "Iter: 31000, Loss: 407.6706237792969\n",
      "Iter: 32000, Loss: 270.2688903808594\n",
      "Iter: 33000, Loss: 57.12983322143555\n",
      "Iter: 34000, Loss: 505.7613525390625\n",
      "Iter: 35000, Loss: 216.18063354492188\n",
      "Iter: 36000, Loss: 76.64816284179688\n",
      "Iter: 37000, Loss: 301.31268310546875\n",
      "Iter: 38000, Loss: 192.05654907226562\n",
      "Iter: 39000, Loss: 170.19406127929688\n",
      "Iter: 40000, Loss: 200.53294372558594\n",
      "Iter: 41000, Loss: 368.4066162109375\n",
      "Iter: 42000, Loss: 224.08409118652344\n",
      "Iter: 43000, Loss: 55.20170211791992\n",
      "Iter: 44000, Loss: 80.6135482788086\n",
      "Iter: 45000, Loss: 280.3162536621094\n",
      "Iter: 46000, Loss: 235.96543884277344\n",
      "Iter: 47000, Loss: 529.6041259765625\n",
      "Iter: 48000, Loss: 104.34375762939453\n",
      "Iter: 49000, Loss: 132.67381286621094\n",
      "Iter: 50000, Loss: 142.61196899414062\n",
      "Iter: 51000, Loss: 104.83517456054688\n",
      "Iter: 52000, Loss: 104.90254974365234\n",
      "Iter: 53000, Loss: 59.22022247314453\n",
      "Iter: 54000, Loss: 50.966156005859375\n",
      "Iter: 55000, Loss: 37.30925750732422\n",
      "Iter: 56000, Loss: 135.30067443847656\n",
      "Iter: 57000, Loss: 149.6101531982422\n",
      "Iter: 58000, Loss: 149.58468627929688\n",
      "Iter: 59000, Loss: 69.09005737304688\n",
      "Iter: 60000, Loss: 169.20486450195312\n",
      "Iter: 61000, Loss: 110.3543701171875\n",
      "Iter: 62000, Loss: 208.24600219726562\n",
      "Iter: 63000, Loss: 55.159080505371094\n",
      "Iter: 64000, Loss: 52.42464065551758\n",
      "Iter: 65000, Loss: 148.92916870117188\n",
      "Iter: 66000, Loss: 192.50201416015625\n",
      "Iter: 67000, Loss: 288.14544677734375\n",
      "Iter: 68000, Loss: 60.738037109375\n",
      "Iter: 69000, Loss: 204.24313354492188\n",
      "Iter: 70000, Loss: 49.91152572631836\n",
      "Iter: 71000, Loss: 95.85064697265625\n",
      "Iter: 72000, Loss: 274.8005065917969\n",
      "Iter: 73000, Loss: 44.09999084472656\n"
     ]
    }
   ],
   "source": [
    "total_iters = len(totalNoisyImage)\n",
    "loss = np.zeros(total_iters)\n",
    "for i in range(total_iters):\n",
    "    workspace.RunNet(train_model.Proto().name)\n",
    "    loss[i] = workspace.blobs['loss']\n",
    "    if(i%1000 == 0):\n",
    "        print(\"Iter: {}, Loss: {}\".format(i,loss[i]))\n",
    "\n"
   ]
  },
  {
   "cell_type": "code",
   "execution_count": 46,
   "metadata": {},
   "outputs": [
    {
     "data": {
      "text/plain": [
       "<matplotlib.legend.Legend at 0x7f26f4cf17f0>"
      ]
     },
     "execution_count": 46,
     "metadata": {},
     "output_type": "execute_result"
    },
    {
     "data": {
      "image/png": "[encoded data removed]",
      "text/plain": [
       "<matplotlib.figure.Figure at 0x7f26f4cf1d68>"
      ]
     },
     "metadata": {},
     "output_type": "display_data"
    }
   ],
   "source": [
    "pyplot.plot(loss, 'b')\n",
    "pyplot.legend(('Loss'), loc='upper right')"
   ]
  },
  {
   "cell_type": "code",
   "execution_count": 79,
   "metadata": {},
   "outputs": [
    {
     "name": "stdout",
     "output_type": "stream",
     "text": [
      "(1, 32, 32, 3)\n",
      "(1, 32, 32, 3)\n",
      "(1, 32, 32, 3)\n"
     ]
    },
    {
     "data": {
      "image/png": "[encoded data removed]",
      "text/plain": [
       "<matplotlib.figure.Figure at 0x7f26f4036240>"
      ]
     },
     "metadata": {},
     "output_type": "display_data"
    },
    {
     "data": {
      "image/png": "[encoded data removed]",
      "text/plain": [
       "<matplotlib.figure.Figure at 0x7f26f4e38f28>"
      ]
     },
     "metadata": {},
     "output_type": "display_data"
    },
    {
     "data": {
      "image/png": "[encoded data removed]",
      "text/plain": [
       "<matplotlib.figure.Figure at 0x7f26f444c1d0>"
      ]
     },
     "metadata": {},
     "output_type": "display_data"
    }
   ],
   "source": [
    "\n",
    "workspace.RunNet(train_model.Proto().name)\n",
    "genImg = workspace.FetchBlob('convDoutNHWC')\n",
    "\n",
    "noisyImage = workspace.FetchBlob('noisyImg')\n",
    "refImage = workspace.FetchBlob('refImg')\n",
    "print(genImg.shape)\n",
    "print(noisyImage.shape)\n",
    "print(refImage.shape)\n",
    "\n",
    "tempImage = genImg.copy()\n",
    "tempImage[tempImage < 0] = 0\n",
    "\n",
    "showImage(refImage[0])\n",
    "showImage(noisyImage[0])\n",
    "showImage(tempImage[0])"
   ]
  },
  {
   "cell_type": "code",
   "execution_count": null,
   "metadata": {},
   "outputs": [],
   "source": []
  },
  {
   "cell_type": "code",
   "execution_count": null,
   "metadata": {},
   "outputs": [],
   "source": []
  },
  {
   "cell_type": "code",
   "execution_count": null,
   "metadata": {},
   "outputs": [],
   "source": []
  }
 ],
 "metadata": {
  "kernelspec": {
   "display_name": "Python 3",
   "language": "python",
   "name": "python3"
  },
  "language_info": {
   "codemirror_mode": {
    "name": "ipython",
    "version": 3
   },
   "file_extension": ".py",
   "mimetype": "text/x-python",
   "name": "python",
   "nbconvert_exporter": "python",
   "pygments_lexer": "ipython3",
   "version": "3.6.4"
  }
 },
 "nbformat": 4,
 "nbformat_minor": 2
}
