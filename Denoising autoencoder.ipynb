{
 "cells": [
  {
   "cell_type": "code",
   "execution_count": 149,
   "metadata": {},
   "outputs": [
    {
     "name": "stdout",
     "output_type": "stream",
     "text": [
      "Required modules imported.\n"
     ]
    }
   ],
   "source": [
    "#Collect images \n",
    "#cut images to128x128\n",
    "#Make blobs\n",
    "%matplotlib inline\n",
    "import skimage\n",
    "import skimage.io as io\n",
    "import skimage.transform\n",
    "import sys\n",
    "import numpy as np\n",
    "import math\n",
    "from matplotlib import pyplot\n",
    "import matplotlib.image as mpimg\n",
    "from random import randint\n",
    "\n",
    "import\n",
    "print(\"Required modules imported.\")"
   ]
  },
  {
   "cell_type": "code",
   "execution_count": 150,
   "metadata": {},
   "outputs": [],
   "source": [
    "def showImage(img):\n",
    "    pyplot.figure()\n",
    "    pyplot.subplot(1,2,1)\n",
    "    pyplot.imshow(img)\n",
    "    pyplot.axis('on')\n",
    "    pyplot.title('Original image = RGB')\n"
   ]
  },
  {
   "cell_type": "code",
   "execution_count": 175,
   "metadata": {},
   "outputs": [],
   "source": [
    "def makeBlob(imageNoisy,imageRef,sampleCount,noisyFrames,refFrames):\n",
    "    srcNoisyImg = skimage.img_as_float(skimage.io.imread(imageNoisy)).astype(np.float32)\n",
    "    srcRefImg   = skimage.img_as_float(skimage.io.imread(imageRef)).astype(np.float32)\n",
    "    imgW, imgH  = srcNoisyImg.shape[0],srcNoisyImg.shape[1]\n",
    "    i = 0\n",
    "    while(i < sampleCount):\n",
    "        x,y = randint(0,imgW),randint(0,imgH)\n",
    "        if((x+128)>imgW or (y+128)>imgH):\n",
    "            continue\n",
    "        subImageNoisy = srcNoisyImg[x:x+128,y:y+128,:3]\n",
    "        subImageRef   = srcRefImg[x:x+128,y:y+128,:3]\n",
    "        noisyFrames[:,:,:,i] = subImageNoisy\n",
    "        refFrames[:,:,:,i] = subImageRef\n",
    "        i = i +1"
   ]
  },
  {
   "cell_type": "code",
   "execution_count": 183,
   "metadata": {},
   "outputs": [],
   "source": [
    "NUM_OF_FRAMES = 250;\n",
    "noisyFrames = np.empty((128,128,3,NUM_OF_FRAMES))\n",
    "refFrames = np.empty((128,128,3,NUM_OF_FRAMES))\n",
    "makeBlob(\"/home/rohit/Rohit/Internship/material/supplementary-material/1spp_report/images/classroom_-_camera_0480_onespp.png\",\"/home/rohit/Rohit/Internship/material/supplementary-material/1spp_report/images/classroom_-_camera_0480_reference.png\",\n",
    "         NUM_OF_FRAMES,noisyFrames,refFrames)"
   ]
  },
  {
   "cell_type": "code",
   "execution_count": 178,
   "metadata": {},
   "outputs": [
    {
     "name": "stdout",
     "output_type": "stream",
     "text": [
      "128\n"
     ]
    }
   ],
   "source": [
    "def "
   ]
  },
  {
   "cell_type": "code",
   "execution_count": null,
   "metadata": {},
   "outputs": [],
   "source": []
  },
  {
   "cell_type": "code",
   "execution_count": null,
   "metadata": {},
   "outputs": [],
   "source": []
  }
 ],
 "metadata": {
  "kernelspec": {
   "display_name": "Python 3",
   "language": "python",
   "name": "python3"
  },
  "language_info": {
   "codemirror_mode": {
    "name": "ipython",
    "version": 3
   },
   "file_extension": ".py",
   "mimetype": "text/x-python",
   "name": "python",
   "nbconvert_exporter": "python",
   "pygments_lexer": "ipython3",
   "version": "3.6.4"
  }
 },
 "nbformat": 4,
 "nbformat_minor": 2
}
