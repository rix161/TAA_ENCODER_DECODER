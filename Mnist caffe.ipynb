{
 "cells": [
  {
   "cell_type": "code",
   "execution_count": 1,
   "metadata": {},
   "outputs": [
    {
     "name": "stderr",
     "output_type": "stream",
     "text": [
      "WARNING:root:This caffe2 python run does not have GPU support. Will run in CPU only mode.\n",
      "WARNING:root:Debug message: No module named 'caffe2.python.caffe2_pybind11_state_gpu'\n"
     ]
    },
    {
     "name": "stdout",
     "output_type": "stream",
     "text": [
      "Necessities imported!\n"
     ]
    }
   ],
   "source": [
    "from __future__ import absolute_import\n",
    "from __future__ import division\n",
    "from __future__ import print_function\n",
    "from __future__ import unicode_literals\n",
    "%matplotlib inline\n",
    "from matplotlib import pyplot\n",
    "import numpy as np\n",
    "import os\n",
    "import shutil\n",
    "import operator\n",
    "import caffe2.python.predictor.predictor_exporter as pe\n",
    "\n",
    "from caffe2.python import (\n",
    "    brew,\n",
    "    core,\n",
    "    model_helper,\n",
    "    net_drawer,\n",
    "    optimizer,\n",
    "    visualize,\n",
    "    workspace,\n",
    ")\n",
    "\n",
    "# If you would like to see some really detailed initializations,\n",
    "# you can change --caffe2_log_level=0 to --caffe2_log_level=-1\n",
    "core.GlobalInit(['caffe2', '--caffe2_log_level=0'])\n",
    "print(\"Necessities imported!\")\n",
    "\n",
    "# If True, use the LeNet CNN model\n",
    "# If False, a multilayer perceptron model is used\n",
    "USE_LENET_MODEL = True"
   ]
  },
  {
   "cell_type": "code",
   "execution_count": 2,
   "metadata": {},
   "outputs": [
    {
     "name": "stdout",
     "output_type": "stream",
     "text": [
      "lmdb train db found!\n",
      "lmdb test db found!\n",
      "Looks like you ran this before, so we need to cleanup those old files...\n",
      "training data folder:/home/rohit/caffe2_notebooks/tutorial_data/mnist\n",
      "workspace root folder:/home/rohit/caffe2_notebooks/tutorial_files/tutorial_mnist\n"
     ]
    }
   ],
   "source": [
    "#This section preps your image and test set in a lmdb database\n",
    "def DownloadResource(url, path):\n",
    "    '''Downloads resources from s3 by url and unzips them to the provided path'''\n",
    "    import requests, zipfile, StringIO\n",
    "    print(\"Downloading... {} to {}\".format(url, path))\n",
    "    r = requests.get(url, stream=True)\n",
    "    z = zipfile.ZipFile(StringIO.StringIO(r.content))\n",
    "    z.extractall(path)\n",
    "    print(\"Completed download and extraction.\")\n",
    "\n",
    "\n",
    "current_folder = os.path.join(os.path.expanduser('~'), 'caffe2_notebooks')\n",
    "data_folder = os.path.join(current_folder, 'tutorial_data', 'mnist')\n",
    "root_folder = os.path.join(current_folder, 'tutorial_files', 'tutorial_mnist')\n",
    "db_missing = False\n",
    "\n",
    "if not os.path.exists(data_folder):\n",
    "    os.makedirs(data_folder)   \n",
    "    print(\"Your data folder was not found!! This was generated: {}\".format(data_folder))\n",
    "\n",
    "# Look for existing database: lmdb\n",
    "if os.path.exists(os.path.join(data_folder,\"mnist-train-nchw-lmdb\")):\n",
    "    print(\"lmdb train db found!\")\n",
    "else:\n",
    "    db_missing = True\n",
    "\n",
    "if os.path.exists(os.path.join(data_folder,\"mnist-test-nchw-lmdb\")):\n",
    "    print(\"lmdb test db found!\")\n",
    "else:\n",
    "    db_missing = True\n",
    "\n",
    "# attempt the download of the db if either was missing\n",
    "if db_missing:\n",
    "    print(\"one or both of the MNIST lmbd dbs not found!!\")\n",
    "    db_url = \"http://download.caffe2.ai/databases/mnist-lmdb.zip\"\n",
    "    try:\n",
    "        DownloadResource(db_url, data_folder)\n",
    "    except Exception as ex:\n",
    "        print(\"Failed to download dataset. Please download it manually from {}\".format(db_url))\n",
    "        print(\"Unzip it and place the two database folders here: {}\".format(data_folder))\n",
    "        raise ex\n",
    "\n",
    "if os.path.exists(root_folder):\n",
    "    print(\"Looks like you ran this before, so we need to cleanup those old files...\")\n",
    "    shutil.rmtree(root_folder)\n",
    "\n",
    "os.makedirs(root_folder)\n",
    "workspace.ResetWorkspace(root_folder)\n",
    "\n",
    "print(\"training data folder:\" + data_folder)\n",
    "print(\"workspace root folder:\" + root_folder)\n"
   ]
  },
  {
   "cell_type": "code",
   "execution_count": 3,
   "metadata": {},
   "outputs": [],
   "source": [
    "def AddInput(model, batch_size, db, db_type):\n",
    "    ### load the data from db - Method 1 using brew\n",
    "    #data_uint8, label = brew.db_input(\n",
    "    #    model,\n",
    "    #    blobs_out=[\"data_uint8\", \"label\"],\n",
    "    #    batch_size=batch_size,\n",
    "    #    db=db,\n",
    "    #    db_type=db_type,\n",
    "    #)\n",
    "    ### load the data from db - Method 2 using TensorProtosDB\n",
    "    data_uint8, label = model.TensorProtosDBInput(\n",
    "        [], [\"data_uint8\", \"label\"], batch_size=batch_size,\n",
    "        db=db, db_type=db_type)\n",
    "    #output_blob, old_shape = model.Reshape(['data'], ['output_blob', 'old_shape'], shape=(newshape_N,C,H,W))\n",
    "    # cast the data to float\n",
    "    data_shape = model.Shape(data_uint8)\n",
    "    data_reshape,old_shape = model.Reshape(data_uint8,['data_reshape','old_shape'],shape=(64,1,32,32))\n",
    "    data = model.Cast(data_reshape, \"data\", to=core.DataType.FLOAT)\n",
    "    # scale data from [0,255] down to [0,1]\n",
    "    data = model.Scale(data, data, scale=float(1./256))\n",
    "    # don't need the gradient for the backward pass\n",
    "    data = model.StopGradient(data, data)\n",
    "    return data, label"
   ]
  },
  {
   "cell_type": "code",
   "execution_count": 4,
   "metadata": {},
   "outputs": [],
   "source": [
    "def AddModel(model,data):\n",
    "    conv1 = brew.conv(model,data,\"conv1\",dim_in = 1,dim_out = 40,kernel = 3)\n",
    "    relu1 = brew.relu(model,conv1,\"relu1\");\n",
    "    maxpool1 = brew.max_pool(model,relu1,\"max_pool1\",kernel=2,stride=2)\n",
    "    \n",
    "    conv2 = brew.conv(model,maxpool1,\"conv2\",dim_in =40 ,dim_out = 100,kernel = 3)\n",
    "    relu2 = brew.relu(model,conv2,\"relu2\");\n",
    "    maxpool2 = brew.max_pool(model,relu2,\"max_pool2\",kernel=2,stride=2)\n",
    "    \n",
    "    conv3 = brew.conv(model,maxpool2,\"conv3\",dim_in =100 ,dim_out = 500,kernel = 3)\n",
    "    relu3 = brew.relu(model,conv3,\"relu3\");\n",
    "    maxpool3 = brew.max_pool(model,relu3,\"max_pool3\",kernel=2,stride=2)\n",
    "    \n",
    "    fc3 = brew.fc(model, maxpool3, 'fc3', dim_in=500 * 1 * 1, dim_out=1000)\n",
    "    relu4 = brew.relu(model, fc3, 'relu4')\n",
    "    \n",
    "    pred = brew.fc(model, relu4, 'pred', dim_in=1000, dim_out=10)\n",
    "    softmax = brew.softmax(model, pred, 'softmax')\n",
    "    \n",
    "    return softmax\n",
    "    \n",
    "    "
   ]
  },
  {
   "cell_type": "code",
   "execution_count": 5,
   "metadata": {},
   "outputs": [],
   "source": [
    "def AddAccuracy(model, softmax, label):\n",
    "    \"\"\"Adds an accuracy op to the model\"\"\"\n",
    "    accuracy = brew.accuracy(model, [softmax, label], \"accuracy\")\n",
    "    return accuracy"
   ]
  },
  {
   "cell_type": "code",
   "execution_count": 6,
   "metadata": {},
   "outputs": [],
   "source": [
    "def AddTrainingOperator(model,softmax,label):\n",
    "    xent = model.LabelCrossEntropy([softmax,label],\"xent\")\n",
    "    loss = model.AveragedLoss(xent,\"loss\")\n",
    "    AddAccuracy(model, softmax, label)\n",
    "    model.AddGradientOperators([loss])\n",
    "    optimizer.build_sgd(\n",
    "        model,\n",
    "        base_learning_rate = 0.1,\n",
    "        policy = 'step',\n",
    "        stepsize = 1,\n",
    "        gamma =0.99\n",
    "    )"
   ]
  },
  {
   "cell_type": "code",
   "execution_count": 7,
   "metadata": {},
   "outputs": [
    {
     "name": "stderr",
     "output_type": "stream",
     "text": [
      "WARNING:root:You are creating an op that the ModelHelper does not recognize: Shape.\n",
      "WARNING:root:You are creating an op that the ModelHelper does not recognize: Reshape.\n"
     ]
    }
   ],
   "source": [
    "arg_scope = {'order':'NCHW'}\n",
    "trainModel = model_helper.ModelHelper(name=\"mnist_train\",arg_scope = arg_scope)\n",
    "data,label = AddInput(trainModel,batch_size = 64,db=os.path.join(data_folder, 'mnist-train-nchw-lmdb'),db_type='lmdb')\n",
    "softmax = AddModel(trainModel,data)\n",
    "AddTrainingOperator(trainModel,softmax,label)"
   ]
  },
  {
   "cell_type": "code",
   "execution_count": 8,
   "metadata": {},
   "outputs": [
    {
     "name": "stderr",
     "output_type": "stream",
     "text": [
      "WARNING:caffe2.python.workspace:Original python traceback for operator `0` in network `mnist_train_init` in exception above (most recent call last):\n",
      "WARNING:caffe2.python.workspace:  File \"/home/rohit/anaconda3/lib/python3.6/runpy.py\", line 193, in _run_module_as_main\n",
      "WARNING:caffe2.python.workspace:  File \"/home/rohit/anaconda3/lib/python3.6/runpy.py\", line 85, in _run_code\n",
      "WARNING:caffe2.python.workspace:  File \"/home/rohit/anaconda3/lib/python3.6/site-packages/ipykernel_launcher.py\", line 16, in <module>\n",
      "WARNING:caffe2.python.workspace:  File \"/home/rohit/anaconda3/lib/python3.6/site-packages/traitlets/config/application.py\", line 658, in launch_instance\n",
      "WARNING:caffe2.python.workspace:  File \"/home/rohit/anaconda3/lib/python3.6/site-packages/ipykernel/kernelapp.py\", line 478, in start\n",
      "WARNING:caffe2.python.workspace:  File \"/home/rohit/anaconda3/lib/python3.6/site-packages/zmq/eventloop/ioloop.py\", line 177, in start\n",
      "WARNING:caffe2.python.workspace:  File \"/home/rohit/anaconda3/lib/python3.6/site-packages/tornado/ioloop.py\", line 888, in start\n",
      "WARNING:caffe2.python.workspace:  File \"/home/rohit/anaconda3/lib/python3.6/site-packages/tornado/stack_context.py\", line 277, in null_wrapper\n",
      "WARNING:caffe2.python.workspace:  File \"/home/rohit/anaconda3/lib/python3.6/site-packages/zmq/eventloop/zmqstream.py\", line 440, in _handle_events\n",
      "WARNING:caffe2.python.workspace:  File \"/home/rohit/anaconda3/lib/python3.6/site-packages/zmq/eventloop/zmqstream.py\", line 472, in _handle_recv\n",
      "WARNING:caffe2.python.workspace:  File \"/home/rohit/anaconda3/lib/python3.6/site-packages/zmq/eventloop/zmqstream.py\", line 414, in _run_callback\n",
      "WARNING:caffe2.python.workspace:  File \"/home/rohit/anaconda3/lib/python3.6/site-packages/tornado/stack_context.py\", line 277, in null_wrapper\n",
      "WARNING:caffe2.python.workspace:  File \"/home/rohit/anaconda3/lib/python3.6/site-packages/ipykernel/kernelbase.py\", line 283, in dispatcher\n",
      "WARNING:caffe2.python.workspace:  File \"/home/rohit/anaconda3/lib/python3.6/site-packages/ipykernel/kernelbase.py\", line 233, in dispatch_shell\n",
      "WARNING:caffe2.python.workspace:  File \"/home/rohit/anaconda3/lib/python3.6/site-packages/ipykernel/kernelbase.py\", line 399, in execute_request\n",
      "WARNING:caffe2.python.workspace:  File \"/home/rohit/anaconda3/lib/python3.6/site-packages/ipykernel/ipkernel.py\", line 208, in do_execute\n",
      "WARNING:caffe2.python.workspace:  File \"/home/rohit/anaconda3/lib/python3.6/site-packages/ipykernel/zmqshell.py\", line 537, in run_cell\n",
      "WARNING:caffe2.python.workspace:  File \"/home/rohit/anaconda3/lib/python3.6/site-packages/IPython/core/interactiveshell.py\", line 2728, in run_cell\n",
      "WARNING:caffe2.python.workspace:  File \"/home/rohit/anaconda3/lib/python3.6/site-packages/IPython/core/interactiveshell.py\", line 2850, in run_ast_nodes\n",
      "WARNING:caffe2.python.workspace:  File \"/home/rohit/anaconda3/lib/python3.6/site-packages/IPython/core/interactiveshell.py\", line 2910, in run_code\n",
      "WARNING:caffe2.python.workspace:  File \"<ipython-input-7-b3bd4a3b2855>\", line 3, in <module>\n",
      "WARNING:caffe2.python.workspace:  File \"<ipython-input-3-bc91afb16e62>\", line 13, in AddInput\n",
      "WARNING:caffe2.python.workspace:  File \"/home/rohit/anaconda3/lib/python3.6/site-packages/caffe2/python/model_helper.py\", line 437, in TensorProtosDBInput\n",
      "WARNING:caffe2.python.workspace:  File \"/home/rohit/anaconda3/lib/python3.6/site-packages/caffe2/python/helpers/db_input.py\", line 14, in db_input\n"
     ]
    },
    {
     "ename": "RuntimeError",
     "evalue": "[enforce fail at db.h:190] db_. Cannot open db: /home/rohit/caffe2_notebooks/tutorial_data/mnist/mnist-train-nchw-lmdb of type lmdb Error from operator: \noutput: \"dbreader_/home/rohit/caffe2_notebooks/tutorial_data/mnist/mnist-train-nchw-lmdb\" name: \"\" type: \"CreateDB\" arg { name: \"db\" s: \"/home/rohit/caffe2_notebooks/tutorial_data/mnist/mnist-train-nchw-lmdb\" } arg { name: \"db_type\" s: \"lmdb\" }",
     "output_type": "error",
     "traceback": [
      "\u001b[0;31m---------------------------------------------------------------------------\u001b[0m",
      "\u001b[0;31mRuntimeError\u001b[0m                              Traceback (most recent call last)",
      "\u001b[0;32m<ipython-input-8-ecfa964945cb>\u001b[0m in \u001b[0;36m<module>\u001b[0;34m()\u001b[0m\n\u001b[0;32m----> 1\u001b[0;31m \u001b[0mworkspace\u001b[0m\u001b[0;34m.\u001b[0m\u001b[0mRunNetOnce\u001b[0m\u001b[0;34m(\u001b[0m\u001b[0mtrainModel\u001b[0m\u001b[0;34m.\u001b[0m\u001b[0mparam_init_net\u001b[0m\u001b[0;34m)\u001b[0m\u001b[0;34m\u001b[0m\u001b[0m\n\u001b[0m\u001b[1;32m      2\u001b[0m \u001b[0mworkspace\u001b[0m\u001b[0;34m.\u001b[0m\u001b[0mCreateNet\u001b[0m\u001b[0;34m(\u001b[0m\u001b[0mtrainModel\u001b[0m\u001b[0;34m.\u001b[0m\u001b[0mnet\u001b[0m\u001b[0;34m,\u001b[0m\u001b[0moverwrite\u001b[0m\u001b[0;34m=\u001b[0m\u001b[0;32mTrue\u001b[0m\u001b[0;34m)\u001b[0m\u001b[0;34m\u001b[0m\u001b[0m\n\u001b[1;32m      3\u001b[0m \u001b[0;34m\u001b[0m\u001b[0m\n\u001b[1;32m      4\u001b[0m \u001b[0mnumOfIter\u001b[0m \u001b[0;34m=\u001b[0m \u001b[0;36m500\u001b[0m\u001b[0;34m\u001b[0m\u001b[0m\n\u001b[1;32m      5\u001b[0m \u001b[0maccuracy\u001b[0m \u001b[0;34m=\u001b[0m \u001b[0mnp\u001b[0m\u001b[0;34m.\u001b[0m\u001b[0mzeros\u001b[0m\u001b[0;34m(\u001b[0m\u001b[0mnumOfIter\u001b[0m\u001b[0;34m)\u001b[0m\u001b[0;34m\u001b[0m\u001b[0m\n",
      "\u001b[0;32m~/anaconda3/lib/python3.6/site-packages/caffe2/python/workspace.py\u001b[0m in \u001b[0;36mRunNetOnce\u001b[0;34m(net)\u001b[0m\n\u001b[1;32m    197\u001b[0m         \u001b[0mC\u001b[0m\u001b[0;34m.\u001b[0m\u001b[0mWorkspace\u001b[0m\u001b[0;34m.\u001b[0m\u001b[0mcurrent\u001b[0m\u001b[0;34m.\u001b[0m\u001b[0m_last_failed_op_net_position\u001b[0m\u001b[0;34m,\u001b[0m\u001b[0;34m\u001b[0m\u001b[0m\n\u001b[1;32m    198\u001b[0m         \u001b[0mGetNetName\u001b[0m\u001b[0;34m(\u001b[0m\u001b[0mnet\u001b[0m\u001b[0;34m)\u001b[0m\u001b[0;34m,\u001b[0m\u001b[0;34m\u001b[0m\u001b[0m\n\u001b[0;32m--> 199\u001b[0;31m         \u001b[0mStringifyProto\u001b[0m\u001b[0;34m(\u001b[0m\u001b[0mnet\u001b[0m\u001b[0;34m)\u001b[0m\u001b[0;34m,\u001b[0m\u001b[0;34m\u001b[0m\u001b[0m\n\u001b[0m\u001b[1;32m    200\u001b[0m     )\n\u001b[1;32m    201\u001b[0m \u001b[0;34m\u001b[0m\u001b[0m\n",
      "\u001b[0;32m~/anaconda3/lib/python3.6/site-packages/caffe2/python/workspace.py\u001b[0m in \u001b[0;36mCallWithExceptionIntercept\u001b[0;34m(func, op_id_fetcher, net_name, *args, **kwargs)\u001b[0m\n\u001b[1;32m    176\u001b[0m \u001b[0;32mdef\u001b[0m \u001b[0mCallWithExceptionIntercept\u001b[0m\u001b[0;34m(\u001b[0m\u001b[0mfunc\u001b[0m\u001b[0;34m,\u001b[0m \u001b[0mop_id_fetcher\u001b[0m\u001b[0;34m,\u001b[0m \u001b[0mnet_name\u001b[0m\u001b[0;34m,\u001b[0m \u001b[0;34m*\u001b[0m\u001b[0margs\u001b[0m\u001b[0;34m,\u001b[0m \u001b[0;34m**\u001b[0m\u001b[0mkwargs\u001b[0m\u001b[0;34m)\u001b[0m\u001b[0;34m:\u001b[0m\u001b[0;34m\u001b[0m\u001b[0m\n\u001b[1;32m    177\u001b[0m     \u001b[0;32mtry\u001b[0m\u001b[0;34m:\u001b[0m\u001b[0;34m\u001b[0m\u001b[0m\n\u001b[0;32m--> 178\u001b[0;31m         \u001b[0;32mreturn\u001b[0m \u001b[0mfunc\u001b[0m\u001b[0;34m(\u001b[0m\u001b[0;34m*\u001b[0m\u001b[0margs\u001b[0m\u001b[0;34m,\u001b[0m \u001b[0;34m**\u001b[0m\u001b[0mkwargs\u001b[0m\u001b[0;34m)\u001b[0m\u001b[0;34m\u001b[0m\u001b[0m\n\u001b[0m\u001b[1;32m    179\u001b[0m     \u001b[0;32mexcept\u001b[0m \u001b[0mException\u001b[0m\u001b[0;34m:\u001b[0m\u001b[0;34m\u001b[0m\u001b[0m\n\u001b[1;32m    180\u001b[0m         \u001b[0mop_id\u001b[0m \u001b[0;34m=\u001b[0m \u001b[0mop_id_fetcher\u001b[0m\u001b[0;34m(\u001b[0m\u001b[0;34m)\u001b[0m\u001b[0;34m\u001b[0m\u001b[0m\n",
      "\u001b[0;31mRuntimeError\u001b[0m: [enforce fail at db.h:190] db_. Cannot open db: /home/rohit/caffe2_notebooks/tutorial_data/mnist/mnist-train-nchw-lmdb of type lmdb Error from operator: \noutput: \"dbreader_/home/rohit/caffe2_notebooks/tutorial_data/mnist/mnist-train-nchw-lmdb\" name: \"\" type: \"CreateDB\" arg { name: \"db\" s: \"/home/rohit/caffe2_notebooks/tutorial_data/mnist/mnist-train-nchw-lmdb\" } arg { name: \"db_type\" s: \"lmdb\" }"
     ]
    }
   ],
   "source": [
    "workspace.RunNetOnce(trainModel.param_init_net)\n",
    "workspace.CreateNet(trainModel.net,overwrite=True)\n",
    "\n",
    "numOfIter = 500\n",
    "accuracy = np.zeros(numOfIter)\n",
    "loss = np.zeros(numOfIter)\n",
    "\n",
    "for i in range(numOfIter):\n",
    "    workspace.RunNet(trainModel.net)\n",
    "    accuracy[i] = workspace.blobs['accuracy']\n",
    "    loss[i] = workspace.blobs['loss']\n",
    "    data = workspace.blobs['data']\n",
    "    print(data[0][0].shape)\n",
    "    if i%25 == 0:\n",
    "        print(\"Iter: {}, Loss: {}, Accuracy: {}\".format(i,loss[i],accuracy[i]))\n",
    "\n",
    "        \n",
    "        \n",
    "pyplot.plot(loss, 'b')\n",
    "pyplot.plot(accuracy, 'r')\n",
    "pyplot.title(\"Summary of Training Run\")\n",
    "pyplot.xlabel(\"Iteration\")\n",
    "pyplot.legend(('Loss', 'Accuracy'), loc='upper right')"
   ]
  },
  {
   "cell_type": "code",
   "execution_count": 9,
   "metadata": {},
   "outputs": [
    {
     "ename": "RuntimeError",
     "evalue": "[enforce fail at pybind_state.cc:168] ws->HasBlob(name). Can't find blob: data ",
     "output_type": "error",
     "traceback": [
      "\u001b[0;31m---------------------------------------------------------------------------\u001b[0m",
      "\u001b[0;31mRuntimeError\u001b[0m                              Traceback (most recent call last)",
      "\u001b[0;32m<ipython-input-9-95e066efb3f6>\u001b[0m in \u001b[0;36m<module>\u001b[0;34m()\u001b[0m\n\u001b[1;32m      3\u001b[0m \u001b[0mpyplot\u001b[0m\u001b[0;34m.\u001b[0m\u001b[0mtitle\u001b[0m\u001b[0;34m(\u001b[0m\u001b[0;34m\"Training Data Sample\"\u001b[0m\u001b[0;34m)\u001b[0m\u001b[0;34m\u001b[0m\u001b[0m\n\u001b[1;32m      4\u001b[0m \u001b[0;31m# Grab the most recent data blob (i.e. batch) from the workspace\u001b[0m\u001b[0;34m\u001b[0m\u001b[0;34m\u001b[0m\u001b[0m\n\u001b[0;32m----> 5\u001b[0;31m \u001b[0mdata\u001b[0m \u001b[0;34m=\u001b[0m \u001b[0mworkspace\u001b[0m\u001b[0;34m.\u001b[0m\u001b[0mFetchBlob\u001b[0m\u001b[0;34m(\u001b[0m\u001b[0;34m'data'\u001b[0m\u001b[0;34m)\u001b[0m\u001b[0;34m\u001b[0m\u001b[0m\n\u001b[0m\u001b[1;32m      6\u001b[0m \u001b[0;31m# Use visualize module to show the examples from the last batch that was fed to the model\u001b[0m\u001b[0;34m\u001b[0m\u001b[0;34m\u001b[0m\u001b[0m\n\u001b[1;32m      7\u001b[0m \u001b[0m_\u001b[0m \u001b[0;34m=\u001b[0m \u001b[0mvisualize\u001b[0m\u001b[0;34m.\u001b[0m\u001b[0mNCHW\u001b[0m\u001b[0;34m.\u001b[0m\u001b[0mShowMultiple\u001b[0m\u001b[0;34m(\u001b[0m\u001b[0mdata\u001b[0m\u001b[0;34m)\u001b[0m\u001b[0;34m\u001b[0m\u001b[0m\n",
      "\u001b[0;32m~/anaconda3/lib/python3.6/site-packages/caffe2/python/workspace.py\u001b[0m in \u001b[0;36mFetchBlob\u001b[0;34m(name)\u001b[0m\n\u001b[1;32m    337\u001b[0m       \u001b[0mFetched\u001b[0m \u001b[0mblob\u001b[0m \u001b[0;34m(\u001b[0m\u001b[0mnumpy\u001b[0m \u001b[0marray\u001b[0m \u001b[0;32mor\u001b[0m \u001b[0mstring\u001b[0m\u001b[0;34m)\u001b[0m \u001b[0;32mif\u001b[0m \u001b[0msuccessful\u001b[0m\u001b[0;34m\u001b[0m\u001b[0m\n\u001b[1;32m    338\u001b[0m     \"\"\"\n\u001b[0;32m--> 339\u001b[0;31m     \u001b[0mresult\u001b[0m \u001b[0;34m=\u001b[0m \u001b[0mC\u001b[0m\u001b[0;34m.\u001b[0m\u001b[0mfetch_blob\u001b[0m\u001b[0;34m(\u001b[0m\u001b[0mStringifyBlobName\u001b[0m\u001b[0;34m(\u001b[0m\u001b[0mname\u001b[0m\u001b[0;34m)\u001b[0m\u001b[0;34m)\u001b[0m\u001b[0;34m\u001b[0m\u001b[0m\n\u001b[0m\u001b[1;32m    340\u001b[0m     \u001b[0;32mif\u001b[0m \u001b[0misinstance\u001b[0m\u001b[0;34m(\u001b[0m\u001b[0mresult\u001b[0m\u001b[0;34m,\u001b[0m \u001b[0mtuple\u001b[0m\u001b[0;34m)\u001b[0m\u001b[0;34m:\u001b[0m\u001b[0;34m\u001b[0m\u001b[0m\n\u001b[1;32m    341\u001b[0m         raise TypeError(\n",
      "\u001b[0;31mRuntimeError\u001b[0m: [enforce fail at pybind_state.cc:168] ws->HasBlob(name). Can't find blob: data "
     ]
    },
    {
     "data": {
      "image/png": "[encoded data removed]",
      "text/plain": [
       "<matplotlib.figure.Figure at 0x7fdea0078240>"
      ]
     },
     "metadata": {},
     "output_type": "display_data"
    }
   ],
   "source": [
    "### Let's look at some of the training data\n",
    "pyplot.figure()\n",
    "pyplot.title(\"Training Data Sample\")\n",
    "# Grab the most recent data blob (i.e. batch) from the workspace\n",
    "data = workspace.FetchBlob('data')\n",
    "# Use visualize module to show the examples from the last batch that was fed to the model\n",
    "_ = visualize.NCHW.ShowMultiple(data)\n",
    "\n",
    "### Let's visualize the softmax result\n",
    "pyplot.figure()\n",
    "pyplot.title('Softmax Prediction for the first image above')\n",
    "pyplot.ylabel('Confidence')\n",
    "pyplot.xlabel('Label')\n",
    "# Grab and visualize the softmax blob for the batch we just visualized. Since batch size\n",
    "#  is 64, the softmax blob contains 64 vectors, one for each image in the batch. To grab\n",
    "#  the vector for the first image, we can simply index the fetched softmax blob at zero.\n",
    "softmax = workspace.FetchBlob('softmax')\n",
    "_ = pyplot.plot(softmax[1], 'ro')"
   ]
  },
  {
   "cell_type": "code",
   "execution_count": null,
   "metadata": {},
   "outputs": [],
   "source": [
    "    pyplot.figure()\n",
    "    pyplot.title(\"Conv1 Output Feature Maps for Most Recent Mini-batch\")\n",
    "    # Grab the output feature maps of conv1. Change this to conv2 in order to look into the second one.\n",
    "    #  Remember, early convolutional layers tend to learn human-interpretable features but later conv\n",
    "    #  layers work with highly-abstract representations. For this reason, it may be harder to understand\n",
    "    #  features of the later conv layers.\n",
    "    conv = workspace.FetchBlob('conv2')\n",
    "    \n",
    "    # We can look into any channel. Think of it as a feature model learned.\n",
    "    # In this case we look into the 5th channel. Play with other channels to see other features\n",
    "    conv = conv[:,[7],:,:]\n",
    "\n",
    "    _ = visualize.NCHW.ShowMultiple(conv)"
   ]
  },
  {
   "cell_type": "code",
   "execution_count": null,
   "metadata": {},
   "outputs": [],
   "source": []
  }
 ],
 "metadata": {
  "kernelspec": {
   "display_name": "Python 3",
   "language": "python",
   "name": "python3"
  },
  "language_info": {
   "codemirror_mode": {
    "name": "ipython",
    "version": 3
   },
   "file_extension": ".py",
   "mimetype": "text/x-python",
   "name": "python",
   "nbconvert_exporter": "python",
   "pygments_lexer": "ipython3",
   "version": "3.6.4"
  }
 },
 "nbformat": 4,
 "nbformat_minor": 2
}
